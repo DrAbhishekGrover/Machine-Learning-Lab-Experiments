{
 "cells": [
  {
   "cell_type": "code",
   "execution_count": 1,
   "id": "e22e222e",
   "metadata": {},
   "outputs": [
    {
     "name": "stdout",
     "output_type": "stream",
     "text": [
      "[5, 4, 3, 10, 12]\n",
      "<class 'list'>\n",
      "5\n",
      "5\n",
      "['Mango', 1, True]\n",
      "(5, 4)\n",
      "<class 'tuple'>\n",
      "{'Name': 'Abhishek', 'Age': 10, 'subject': 'ML'}\n",
      "<class 'dict'>\n",
      "Abhishek\n",
      "{1, 2, 3, 4}\n",
      "<class 'set'>\n",
      "<class 'bool'>\n",
      "True\n",
      "11\n",
      "0\n",
      "1\n",
      "2\n",
      "3\n",
      "4\n",
      "5\n",
      "6\n",
      "7\n",
      "8\n",
      "9\n",
      "I am driving Toyota of year 2023\n",
      "1\n",
      "2\n"
     ]
    }
   ],
   "source": [
    "#Numbers (int and float)\n",
    "a=5\n",
    "#print(a)\n",
    "b=5.5\n",
    "#print(type(b))\n",
    "\n",
    "#String (character is a string with a length of 1)\n",
    "c='Abhishek'\n",
    "d='A'\n",
    "#print(type(d))\n",
    "#print(len(d))\n",
    "\n",
    "#List (Ordered collection of mixed types), Mutable\n",
    "a=[5,4,3,10,12]\n",
    "print(a)\n",
    "print(type(a))\n",
    "print(len(a))\n",
    "print(a[0])\n",
    "\n",
    "fruits=['apple','Mango','Banana']\n",
    "fav=['Mango',1,True]\n",
    "#print(fruits)\n",
    "print(fav)\n",
    "\n",
    "\n",
    "#Tuples (Ordered collection of same types), Immutable\n",
    "coord=(5,4)\n",
    "print(coord)\n",
    "print(type(coord))\n",
    "\n",
    "#Dictonaries (Collection of key-value pairs)\n",
    "s={'Name':'Abhishek','Age':10, 'subject':'ML'}\n",
    "print(s)\n",
    "print(type(s))\n",
    "print(s['Name'])\n",
    "\n",
    "#Sets (Unordered collection of unique elements)\n",
    "s={1,2,3,4,4}\n",
    "print(s)\n",
    "print(type(s))\n",
    "#Boolean (stores either a True or False Value)\n",
    "f=True\n",
    "print(type(f))\n",
    "print(f)\n",
    "\n",
    "def myfun(a,b):\n",
    "    s=a+b\n",
    "    return(s)\n",
    "print(myfun(5,6))\n",
    "\n",
    "for i in range(0,10):\n",
    "    print(i)\n",
    "\n",
    "class car:\n",
    "    def __init__(self,make,year):\n",
    "        self.m=make\n",
    "        self.y=year\n",
    "    def drive(self):\n",
    "        print(f\"I am driving {self.m} of year {self.y}\")\n",
    "mycar=car('Toyota',2023)\n",
    "mycar.drive()\n",
    "\n",
    "flag=1\n",
    "if(flag==0):\n",
    "    print(0)\n",
    "elif(flag==1):\n",
    "    print(1)\n",
    "elif(flag==2):\n",
    "    print(2)\n",
    "else:\n",
    "    print(3)\n",
    "a=input(\"Enter a number\")\n",
    "print(a)"
   ]
  },
  {
   "cell_type": "code",
   "execution_count": 2,
   "id": "754c5721",
   "metadata": {},
   "outputs": [
    {
     "name": "stdout",
     "output_type": "stream",
     "text": [
      "a count:0\n",
      "b count:1\n",
      "c count:2\n",
      "d count:0\n",
      "e count:0\n"
     ]
    }
   ],
   "source": [
    "d=input(\"Enter a String:  \")\n",
    "ld=len(d)\n",
    "ac=0\n",
    "ec=0\n",
    "ic=0\n",
    "oc=0\n",
    "uc=0\n",
    "for k in range(0,ld):\n",
    "    if(d[k]=='a'):\n",
    "        ac=ac+1\n",
    "    elif(d[k]=='e'):\n",
    "        ec=ec+1\n",
    "    elif(d[k]=='i'):\n",
    "        ic=ic+1\n",
    "    elif(d[k]=='o'):\n",
    "        oc=oc+1\n",
    "    elif(d[k]=='u'):\n",
    "        uc=uc+1\n",
    "print(\"a count:\"+str(ac))\n",
    "print(\"b count:\"+str(ec))\n",
    "print(\"c count:\"+str(ic))\n",
    "print(\"d count:\"+str(oc))\n",
    "print(\"e count:\"+str(uc))"
   ]
  },
  {
   "cell_type": "code",
   "execution_count": 3,
   "id": "8f1fe02f",
   "metadata": {},
   "outputs": [
    {
     "name": "stdout",
     "output_type": "stream",
     "text": [
      "[[6, 6, 6], [15, 15, 15], [24, 24, 24]]\n"
     ]
    }
   ],
   "source": [
    "a=[[1,2,3],[4,5,6],[7,8,9]]\n",
    "b=[[1,1,1],[1,1,1],[1,1,1]]\n",
    "c=[[0,0,0],[0,0,0],[0,0,0]]\n",
    "\n",
    "def msum(m,n):\n",
    "    res=0\n",
    "    for k in range(0,3):\n",
    "        res=res+a[m][k]*b[k][n]\n",
    "    return(res)\n",
    "for i in range(0,3):\n",
    "    for j in range(0,3):\n",
    "        c[i][j]=msum(i,j)\n",
    "print(c)"
   ]
  }
 ],
 "metadata": {
  "kernelspec": {
   "display_name": "Python 3",
   "language": "python",
   "name": "python3"
  },
  "language_info": {
   "codemirror_mode": {
    "name": "ipython",
    "version": 3
   },
   "file_extension": ".py",
   "mimetype": "text/x-python",
   "name": "python",
   "nbconvert_exporter": "python",
   "pygments_lexer": "ipython3",
   "version": "3.13.7"
  }
 },
 "nbformat": 4,
 "nbformat_minor": 5
}
